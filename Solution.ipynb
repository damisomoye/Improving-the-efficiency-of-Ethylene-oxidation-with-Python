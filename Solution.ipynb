{
 "cells": [
  {
   "cell_type": "code",
   "execution_count": null,
   "id": "a594c11e-0c34-4e73-ae52-e95bab083c53",
   "metadata": {
    "colab": {
     "base_uri": "https://localhost:8080/"
    },
    "executionInfo": {
     "elapsed": 9190,
     "status": "ok",
     "timestamp": 1636298012610,
     "user": {
      "displayName": "damilola somoye",
      "photoUrl": "https://lh3.googleusercontent.com/a/default-user=s64",
      "userId": "11131008028892451968"
     },
     "user_tz": 480
    },
    "id": "a594c11e-0c34-4e73-ae52-e95bab083c53",
    "outputId": "712f99c2-f658-4dea-f36f-bb96b8aebdb6"
   },
   "outputs": [
    {
     "name": "stdout",
     "output_type": "stream",
     "text": [
      "\u001b[K     |████████████████████████████████| 9.1 MB 5.5 MB/s \n",
      "\u001b[K     |████████████████████████████████| 49 kB 4.9 MB/s \n",
      "\u001b[?25h"
     ]
    }
   ],
   "source": [
    "### Phase 0: import necessary packages\n",
    "\n",
    "!pip install -q pyomo \n",
    "!wget -N -q \"https://ampl.com/dl/open/ipopt/ipopt-linux64.zip\" \n",
    "!unzip -o -q ipopt-linux64 \n",
    "\n",
    "from pyomo.environ import *\n",
    "import matplotlib.pyplot as plt\n",
    "import numpy as np\n",
    "\n"
   ]
  },
  {
   "cell_type": "code",
   "execution_count": null,
   "id": "WShgRF3gSO99",
   "metadata": {
    "id": "WShgRF3gSO99"
   },
   "outputs": [],
   "source": [
    "### Phase 1: defining parameters, variables and constraints\n",
    "\n",
    "# simulation parameters\n",
    "N=20\n",
    "N_sim= 150\n",
    "dt=3  #(N=20) x 3 =60s sampling time\n",
    "\n",
    "# parameters and constants\n",
    "a= [0.2333, 0.242, 0.127, 0.127]\n",
    "A= [50.27, 50.27, 28.27, 28.27]\n",
    "g= 981\n",
    "Y= [0.4, 0.4]\n",
    "\n",
    "xs = [14, 14, 14, 21.3]\n",
    "us = [43.4, 35.4]\n",
    "\n",
    "# max and min constraints for z and v\n",
    "zmin= [-6.5, -6.5, -10.7, -16.8]\n",
    "zmax= [14, 14, 13.8, 6.7]\n",
    "\n",
    "vmin = [-43.4, -35.4]\n",
    "vmax = [16.6, 24.6]\n",
    "\n",
    "alpha_1= 1 #in part A alpha was not provided\n",
    "alpha_2= 792.4\n",
    "P = [6.55, 6.55, 7.92, 31.7]"
   ]
  },
  {
   "cell_type": "code",
   "execution_count": null,
   "id": "lO5pltHgRi3x",
   "metadata": {
    "id": "lO5pltHgRi3x"
   },
   "outputs": [],
   "source": [
    "### Phase 2: define model, optimal function and objective\n",
    "\n",
    "def StepModel(z, v):\n",
    "    z0_plus = z[0] + dt*(( -(a[0]/A[0]) * ((2*g)*(z[0] + xs[0]))**0.5 )  +  ( (a[2]/A[0]) * ((2*g)*(z[2] + xs[2]))**0.5 )  +  ( (Y[0]/A[0]) * (v[0] + us[0]) ))\n",
    "    z1_plus = z[1] + dt*(( -(a[1]/A[1]) * ((2*g)*(z[1] + xs[1]))**0.5 )  +  ( (a[3]/A[1]) * ((2*g)*(z[3] + xs[3]))**0.5 )  +  ( (Y[1]/A[1]) * (v[1] + us[1]) ))\n",
    "    z2_plus = z[2] + dt*(( -(a[2]/A[2]) * ((2*g)*(z[2] + xs[2]))**0.5 )  +  ( ((1-Y[1])/A[2]) * (v[1] + us[1]) ))\n",
    "    z3_plus = z[3] + dt*(( -(a[3]/A[3]) * ((2*g)*(z[3] + xs[3]))**0.5 )  +  ( ((1-Y[0])/A[3]) * (v[0] + us[0]) ))\n",
    "    return [z0_plus,z1_plus,z2_plus,z3_plus]\n",
    "\n",
    "\n",
    "\n",
    "def OptimalControl(z0):\n",
    "    model = ConcreteModel()  \n",
    "    model.z = Var([0,1,2,3], range(N+1), domain=Reals) # z is state    \n",
    "    model.v = Var([0,1], range(N), domain=Reals) # v is input\n",
    "\n",
    "    ### Constraint definition\n",
    "    # for i in [0,1,2,3]:    #state constraints upper & lower bound\n",
    "    #     model.z[i,:].setlb(zmin[i])\n",
    "    #     model.z[i,:].setub(zmax[i])\n",
    "\n",
    "    for i in [0,1]:        #input constraints upper & lower bound\n",
    "        model.v[i,:].setlb(vmin[i])\n",
    "        model.v[i,:].setub(vmax[i])\n",
    "\n",
    "    model.constraints = ConstraintList() #Each of the 4 z components now has 2 parameters i and t (discretized by time)\n",
    "    for i in [0,1,2,3]: \n",
    "        model.constraints.add(model.z[i,0] == z0[i]) # define initial state for the [x1, x2, x3, x4] constraints \n",
    "\n",
    "    for t in range(N): # t has N steps from 0 to N-1\n",
    "        model.constraints.add(model.z[0, t+1] == model.z[0,t] + dt*(( -(a[0]/A[0]) * ((2*g)*(model.z[0,t] + xs[0]))**0.5 )  +  ( (a[2]/A[0]) * ((2*g)*(model.z[2,t] + xs[2]))**0.5 )  +  ( (Y[0]/A[0]) * (model.v[0,t] + us[0]) )) )  \n",
    "        model.constraints.add(model.z[1, t+1] == model.z[1,t] + dt*(( -(a[1]/A[1]) * ((2*g)*(model.z[1,t] + xs[1]))**0.5 )  +  ( (a[3]/A[1]) * ((2*g)*(model.z[3,t] + xs[3]))**0.5 )  +  ( (Y[1]/A[1]) * (model.v[1,t] + us[1]) )) )  \n",
    "        model.constraints.add(model.z[2, t+1] == model.z[2,t] + dt*(( -(a[2]/A[2]) * ((2*g)*(model.z[2,t] + xs[2]))**0.5 )  +  ( ((1-Y[1])/A[2]) * (model.v[1,t] + us[1]) )) )  \n",
    "        model.constraints.add(model.z[3, t+1] == model.z[3,t] + dt*(( -(a[3]/A[3]) * ((2*g)*(model.z[3,t] + xs[3]))**0.5 )  +  ( ((1-Y[0])/A[3]) * (model.v[0,t] + us[0]) )) )  \n",
    "        model.constraints.add(sum(model.z[i,N]**2 *P[i] for i in [0,1,2,3]) <= alpha_2)  #Final/terminal constraint (from part B)\n",
    "\n",
    "    ###                       Objective based on cost function (from part A)   \n",
    "    obj = 0.5*sum(sum(alpha_1*model.z[i,t]**2 + 0.01*(model.v[i,t]**2) for t in range(N)) for i in [0,1]) \n",
    "    ###                       Objective based on both cost function and terminal cost (from part B)\n",
    "    #obj = 0.5*sum(sum(alpha_2*model.v[i,t]**2 + 0.01(*model.z[i,t]**2) for t in range(N)) for i in [0,1]) + sum((model.z[i,N]**2) * P[i] for i in [0,1,2,3])\n",
    "    model.objective = Objective(expr = obj, sense=minimize)\n",
    "    \n",
    "\n",
    "\n",
    "    #solver\n",
    "    results = SolverFactory('ipopt').solve(model)\n",
    "    return [model.v[0,0](), model.v[1,0]()]   #v1 at step 0 and v2 at step 0"
   ]
  },
  {
   "cell_type": "code",
   "execution_count": null,
   "id": "9f3bf163-3ffd-4e00-b760-9818f0e8be5a",
   "metadata": {
    "id": "9f3bf163-3ffd-4e00-b760-9818f0e8be5a"
   },
   "outputs": [],
   "source": [
    "### Phase 3: Define initial conditions and call function\n",
    "\n",
    "#initial conditions\n",
    "z_init = np.zeros((4,N_sim+1))   #state contains [z1,z2,z3,z4]       \n",
    "v_init = np.zeros((2,N_sim))     #input consists of [v1,v2]\n",
    "z_init[:,0] = [-6,-4,-6,-1]        #initial state\n",
    "\n",
    "#call the function\n",
    "for t in range(N_sim):\n",
    "    v_init[:,t] = OptimalControl(z_init[:,t]) #generate v-initial by passing z initial into optimization function\n",
    "    z_init[:,t+1] = StepModel(z_init[:,t], v_init[:,t]) #generate future states using current state and inputs"
   ]
  },
  {
   "cell_type": "code",
   "execution_count": null,
   "id": "Nz_zfaBOr3hC",
   "metadata": {
    "colab": {
     "base_uri": "https://localhost:8080/",
     "height": 504
    },
    "executionInfo": {
     "elapsed": 1611,
     "status": "ok",
     "timestamp": 1636309132375,
     "user": {
      "displayName": "damilola somoye",
      "photoUrl": "https://lh3.googleusercontent.com/a/default-user=s64",
      "userId": "11131008028892451968"
     },
     "user_tz": 480
    },
    "id": "Nz_zfaBOr3hC",
    "outputId": "17f5e784-313e-4a20-f79d-2642230ba005"
   },
   "outputs": [
    {
     "data": {
      "text/plain": [
       "<matplotlib.legend.Legend at 0x7fd9681e2410>"
      ]
     },
     "execution_count": 146,
     "metadata": {},
     "output_type": "execute_result"
    },
    {
     "data": {
      "image/png": "[encoded data removed]",
      "text/plain": [
       "<Figure size 576x576 with 4 Axes>"
      ]
     },
     "metadata": {
      "needs_background": "light"
     },
     "output_type": "display_data"
    }
   ],
   "source": [
    "###Phase 4: Plot results\n",
    "#convert z values that are output into x values using: x = z + xs\n",
    "x_arr = np.zeros((4,N_sim+1))\n",
    "x_std = np.zeros((4,N_sim+1))\n",
    "\n",
    "for i in range(N_sim+1): \n",
    "    x_std[0,i] = xs[0] #standard/setpoint values (xs)\n",
    "    x_std[1,i] = xs[1]\n",
    "    x_std[2,i] = xs[2]\n",
    "    x_std[3,i] = xs[3]\n",
    "\n",
    "    x_arr[0,i] = z_init[0,i] + xs[0] #changing values of each component (converted)\n",
    "    x_arr[1,i] = z_init[1,i] + xs[1]\n",
    "    x_arr[2,i] = z_init[2,i] + xs[2]\n",
    "    x_arr[3,i] = z_init[3,i] + xs[3]\n",
    "    \n",
    "\n",
    "# Plot output \n",
    "# plt.figure(0)\n",
    "# plt.plot(range(N_sim+1), z_init[0,i])\n",
    "\n",
    "# plt.figure(1)\n",
    "# plt.plot(range(N_sim+1), z_init[1,i])\n",
    "\n",
    "# plt.figure(2)\n",
    "# plt.plot(range(N_sim+1), z_init[2,i])\n",
    "\n",
    "# plt.figure(3)\n",
    "# plt.plot(range(N_sim+1), z_init[3,i])\n",
    "\n",
    "fig,axis = plt.subplots(4,1, figsize=(8,8))\n",
    "\n",
    "axis[0].set_ylim((0,15))\n",
    "axis[0].set_xlim((0,450))\n",
    "axis[0].plot(time,x_arr[0,:], linestyle='-', color= 'red', label='x0', linewidth=2)\n",
    "axis[0].plot(time,x_std[0,:], linestyle='-.',color = 'blue', label='x0_standard', linewidth=2)\n",
    "\n",
    "axis[1].set_ylim((0,17.5))\n",
    "axis[1].set_xlim((0,450))\n",
    "axis[1].plot(time,x_arr[1,:], linestyle='-',color = 'red', label='x1', linewidth=2)\n",
    "axis[1].plot(time,x_std[1,:], linestyle='-.',color = 'blue',label='x1_standard', linewidth=2)\n",
    "\n",
    "axis[2].set_ylim((0,17.5))\n",
    "axis[2].set_xlim((0,450))\n",
    "axis[2].plot(time,x_arr[2,:], linestyle='-',color = 'red', label='x2', linewidth=2)\n",
    "axis[2].plot(time,x_std[2,:], linestyle='-.',color = 'blue',label='x2_standard', linewidth=2)\n",
    "\n",
    "axis[3].set_ylim((0, 30))\n",
    "axis[3].set_xlim((0,450))\n",
    "axis[3].plot(time,x_arr[3,:], linestyle='-',color = 'red', label='x3', linewidth=2)\n",
    "axis[3].plot(time,x_std[3,:], linestyle='-.',color = 'blue',label='x3_standard', linewidth=2)\n",
    "\n",
    "fig.legend(bbox_to_anchor=(0.8,0.8))"
   ]
  }
 ],
 "metadata": {
  "colab": {
   "name": "Midterm.ipynb",
   "provenance": []
  },
  "kernelspec": {
   "display_name": "Python 3 (ipykernel)",
   "language": "python",
   "name": "python3"
  },
  "language_info": {
   "codemirror_mode": {
    "name": "ipython",
    "version": 3
   },
   "file_extension": ".py",
   "mimetype": "text/x-python",
   "name": "python",
   "nbconvert_exporter": "python",
   "pygments_lexer": "ipython3",
   "version": "3.9.7"
  }
 },
 "nbformat": 4,
 "nbformat_minor": 5
}
